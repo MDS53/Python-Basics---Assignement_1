{
 "cells": [
  {
   "cell_type": "markdown",
   "id": "d749a49e",
   "metadata": {},
   "source": [
    "### Question 1 :\n",
    "In the below elements which of them are values or an expression? eg:- values can be integer or string and expressions will be mathematical operators\n"
   ]
  },
  {
   "cell_type": "raw",
   "id": "6869e044",
   "metadata": {},
   "source": [
    "\n",
    "*       - expression\n",
    "'hello' - Value \n",
    "87.8    - Value\n",
    "-       - expression\n",
    "/       - expression\n",
    "+       - expression\n",
    "6       - Value"
   ]
  },
  {
   "cell_type": "markdown",
   "id": "c0675418",
   "metadata": {},
   "source": [
    "### Question 2 :\n",
    "What is the difference between string and variable?"
   ]
  },
  {
   "cell_type": "raw",
   "id": "e25e776f",
   "metadata": {},
   "source": [
    "\n",
    "\n",
    "\n",
    "String : It is group of characters which is enclosed either with single quotes or double quotes \n",
    "\n",
    "Variable : It stores a value in a memory with given name by user . This value may change or can be updated which is not constant"
   ]
  },
  {
   "cell_type": "markdown",
   "id": "807c746f",
   "metadata": {},
   "source": [
    "### Question 3 :\n",
    "Describe three different data types."
   ]
  },
  {
   "cell_type": "raw",
   "id": "f7fc2f32",
   "metadata": {},
   "source": [
    "\n",
    "\n",
    "1. int -integer datatype\n",
    "2. float -floating datatype\n",
    "3. str  - string datatype"
   ]
  },
  {
   "cell_type": "markdown",
   "id": "759102bd",
   "metadata": {},
   "source": [
    "### Question 4 :\n",
    "What is an expression made up of? What do all expressions do?"
   ]
  },
  {
   "cell_type": "raw",
   "id": "9041a57a",
   "metadata": {},
   "source": [
    "\n",
    " expressions is  made up of mathematical operators and operands.\n",
    " expressions are used to evaluate expression which consists of mathematical operators and operands."
   ]
  },
  {
   "cell_type": "markdown",
   "id": "a6e3368b",
   "metadata": {},
   "source": [
    "### Question 5:\n",
    "This assignment statements, like spam = 10. What is the difference between an expression and a statement?"
   ]
  },
  {
   "cell_type": "raw",
   "id": "37124037",
   "metadata": {},
   "source": [
    "\n",
    "expression is used to evaluate expression which consists of mathematical operators and operands.\n",
    "\n",
    "Assignment statement is nothing assigning a value to a variable \n",
    "example : spam=10 , here spam is a variable , 10 is a value which is assigning to a variable spam "
   ]
  },
  {
   "cell_type": "markdown",
   "id": "0813c7b8",
   "metadata": {},
   "source": [
    "### Question 6:\n",
    "\n",
    "After running the following code, what does the variable bacon contain?"
   ]
  },
  {
   "cell_type": "code",
   "execution_count": 8,
   "id": "66d8e011",
   "metadata": {},
   "outputs": [
    {
     "name": "stdout",
     "output_type": "stream",
     "text": [
      "22\n"
     ]
    }
   ],
   "source": [
    "bacon = 22\n",
    "bacon + 1\n",
    "print(bacon)"
   ]
  },
  {
   "cell_type": "markdown",
   "id": "eb574afd",
   "metadata": {},
   "source": [
    "### Question 7:\n",
    "What should the values of the following two terms be?"
   ]
  },
  {
   "cell_type": "code",
   "execution_count": 10,
   "id": "46db6be5",
   "metadata": {},
   "outputs": [
    {
     "name": "stdout",
     "output_type": "stream",
     "text": [
      "spamspamspam\n",
      "spamspamspam\n"
     ]
    }
   ],
   "source": [
    "print('spam' + 'spamspam')\n",
    "print('spam' * 3)"
   ]
  },
  {
   "cell_type": "markdown",
   "id": "f74e59a8",
   "metadata": {},
   "source": [
    "### Question 8 :\n",
    "Why is eggs a valid variable name while 100 is invalid?"
   ]
  },
  {
   "cell_type": "raw",
   "id": "37687aa6",
   "metadata": {},
   "source": [
    "\n",
    "There are rules that should be followed while giving name to a variable\n",
    "\n",
    "Rules:\n",
    "\n",
    "1. A variable name must start with a letter or an underscore character (_)\n",
    "\n",
    "2. A variable name cannot start with a digit\n",
    "\n",
    "3. A variable name can only contain alpha-numeric characters and underscores (a-z, A-Z, 0-9, and _ )\n",
    "\n",
    "3. Variable names are case-sensitive (age, Age and AGE are three different variables)\n",
    "\n",
    "4. There is no limit on the length of the variable name\n",
    "\n",
    "5. A variable name cannot contain spaces\n",
    "\n",
    "6. The variable name cannot be any Go keywords\n",
    "\n",
    "\n",
    "eggs is a valid variable name which is following the above rules but 100 is a invalid variable name which is not following the above rules"
   ]
  },
  {
   "cell_type": "markdown",
   "id": "29fea0ec",
   "metadata": {},
   "source": [
    "### Question 9 :\n",
    "What three functions can be used to get the integer, floating-point number, or string version of a value?"
   ]
  },
  {
   "cell_type": "raw",
   "id": "e112bf9d",
   "metadata": {},
   "source": [
    " int() , float() , and str( )"
   ]
  },
  {
   "cell_type": "markdown",
   "id": "2bcca149",
   "metadata": {},
   "source": [
    "### Question 10 :\n",
    "Why does this expression cause an error? How can you fix it?\n",
    "\n",
    "'I have eaten ' + 99 + ' burritos.'\t\n"
   ]
  },
  {
   "cell_type": "raw",
   "id": "b8f70e71",
   "metadata": {},
   "source": [
    "'I have eaten ' + 99 + ' burritos.'\n",
    "\n",
    "the above code gives error because it can only concatenate str to str not to int\n",
    "\n",
    "we can modify or fix the above code by typecasting the integer to string  as shown in below cell"
   ]
  },
  {
   "cell_type": "code",
   "execution_count": 12,
   "id": "5d463587",
   "metadata": {},
   "outputs": [
    {
     "data": {
      "text/plain": [
       "'I have eaten 99 burritos.'"
      ]
     },
     "execution_count": 12,
     "metadata": {},
     "output_type": "execute_result"
    }
   ],
   "source": [
    "'I have eaten ' + '99' + ' burritos.'\t"
   ]
  }
 ],
 "metadata": {
  "kernelspec": {
   "display_name": "Python 3",
   "language": "python",
   "name": "python3"
  },
  "language_info": {
   "codemirror_mode": {
    "name": "ipython",
    "version": 3
   },
   "file_extension": ".py",
   "mimetype": "text/x-python",
   "name": "python",
   "nbconvert_exporter": "python",
   "pygments_lexer": "ipython3",
   "version": "3.8.8"
  }
 },
 "nbformat": 4,
 "nbformat_minor": 5
}
